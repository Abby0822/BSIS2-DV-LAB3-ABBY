{
  "nbformat": 4,
  "nbformat_minor": 0,
  "metadata": {
    "colab": {
      "provenance": [],
      "authorship_tag": "ABX9TyPsOJXK1ZEEbGEb2dKSLT5M",
      "include_colab_link": true
    },
    "kernelspec": {
      "name": "python3",
      "display_name": "Python 3"
    },
    "language_info": {
      "name": "python"
    }
  },
  "cells": [
    {
      "cell_type": "markdown",
      "metadata": {
        "id": "view-in-github",
        "colab_type": "text"
      },
      "source": [
        "<a href=\"https://colab.research.google.com/github/Abby0822/BSIS2-DV-LAB3-ABBY/blob/BSIS2-DV-LAB1-ABBY/Untitled6.ipynb\" target=\"_parent\"><img src=\"https://colab.research.google.com/assets/colab-badge.svg\" alt=\"Open In Colab\"/></a>"
      ]
    },
    {
      "cell_type": "code",
      "execution_count": null,
      "metadata": {
        "id": "liJ3gnSxy36B"
      },
      "outputs": [],
      "source": [
        "name = input(\"Hello! Please enter your name: \")\n",
        "age = int(input(\"Enter your age: \"))\n",
        "weight = float(input(\"Enter your weight (in kg): \"))\n",
        "height = float(input(\"Enter your height (in cm): \"))\n",
        "\n",
        "# Convert height to meters\n",
        "height = height / 170\n",
        "\n",
        "# Calculate BMI\n",
        "bmi = weight / (height ** 2)\n",
        "\n",
        "# Round BMI to 2 decimal places\n",
        "bmi = round(bmi, 2)\n",
        "\n",
        "# Print results\n",
        "print(f\"\\n{name}, based on the information you provided:\")\n",
        "print(f\"- Age: {age}  years old\")\n",
        "print(f\"- Weight: {weight}  kg\")\n",
        "print(f\"- Height: {height} cm\")\n",
        "print(f\"Your BMI is: {bmi}\")\n",
        "\n",
        "# Interpret BMI\n",
        "if bmi < 18.5:\n",
        "    print(\"Your BMI falls under the category of underweight.\")\n",
        "elif bmi < 25:\n",
        "    print(\"Your BMI falls under the category of healthy weight.\")\n",
        "elif bmi < 30:\n",
        "    print(\"Your BMI falls under the category of overweight.\")\n",
        "else:\n",
        "    print(\"Your BMI falls under the category of obesity.\")"
      ]
    }
  ]
}